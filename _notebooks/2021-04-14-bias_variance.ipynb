{
 "cells": [
  {
   "cell_type": "markdown",
   "id": "19c0bf0f",
   "metadata": {},
   "source": [
    "# Bias-Variance Tradeoff in Math"
   ]
  },
  {
   "cell_type": "markdown",
   "id": "dc11dc9f",
   "metadata": {},
   "source": [
    "Regresssion\n",
    "\n",
    "$$\\begin{equation}\\mu(x) = \\mathbb{E}(Y|X)\\end{equation}$$\n",
    "\n",
    "Mean Square Loss\n",
    "$$\\begin{equation}\\mathcal{L} = \\mathbb{E}[(Y-\\hat{\\mu}(x))^2]\\end{equation}$$\n",
    "Conditional Loss\n",
    "$$\\begin{equation}\\mathcal{L}(x) = \\mathbb{E}[(Y-\\hat{\\mu}(x))^2|x]\\end{equation}$$\n",
    "$$\\begin{equation}\\mathcal{L} = \\mathbb{E}[Loss(x)]\\end{equation}$$\n",
    "\n",
    "Bias given x\n",
    "$$\\begin{equation}bias(x) = \\mathbb{E}[\\hat{\\mu}(x)-\\mu(x)|x]\\end{equation}$$\n",
    "Variance given x\n",
    "$$\\begin{equation}var(x) = \\operatorname{Var}[\\hat{\\mu}(x)|x]\\end{equation}$$"
   ]
  },
  {
   "cell_type": "markdown",
   "id": "d98161d0",
   "metadata": {},
   "source": [
    "$$\\begin{align}\n",
    "\\mathbb{E}[(Y-\\hat{\\mu}(x))^2|x]\n",
    "&= \\mathbb{E}[(Y-\\mu(x)+\\mu(x)-\\hat\\mu(x))^2|x] \\\\\n",
    "&= \\mathbb{E}[(Y-\\mu(x))^2|x] + \\mathbb{E}[(\\mu(x)-\\hat\\mu(x))^2|x] +\n",
    "2\\mathbb{E}[(Y-\\mu(x))(\\mu(x)-\\hat\\mu(x))|x]\n",
    "\\end{align}$$"
   ]
  },
  {
   "cell_type": "markdown",
   "id": "ec6b1651",
   "metadata": {},
   "source": [
    "Intrinsic Variance\n",
    "$$\\begin{equation}\\sigma_x^2 = \\mathbb{E}[(Y-\\mu(x))^2|x]\\end{equation}$$"
   ]
  },
  {
   "cell_type": "markdown",
   "id": "e7a60fb0",
   "metadata": {},
   "source": [
    "Zero\n",
    "$$\\begin{align}\n",
    "\\mathbb{E}[(Y-\\mu(x))(\\mu(x)-\\hat\\mu(x))|x]\n",
    "&=\\mathbb{E}[(Y-\\mathbb{E}(Y|X))(\\mu(x)-\\hat\\mu(x))|x]\\\\\n",
    "&=0\n",
    "\\end{align}$$"
   ]
  },
  {
   "cell_type": "markdown",
   "id": "43a97978",
   "metadata": {},
   "source": [
    "$$\\begin{align}\n",
    "\\mathbb{E}[(\\mu(x)-\\hat\\mu(x))^2|x]\n",
    "&= \\mathbb{E}[(\\mu(x)-\\mathbb{E}[\\mu(x)]+\\mathbb{E}[\\mu(x)]-\\hat\\mu(x))^2|x] \\\\\n",
    "&= \\mathbb{E}[(\\mu(x)-\\mathbb{E}[\\mu(x)])^2|x] +\n",
    "\\mathbb{E}[(\\mathbb{E}[\\mu(x)]-\\hat\\mu(x))^2]  \\\\\n",
    "& + 2\\mathbb{E}[(\\mu(x)-\\mathbb{E}[\\mu(x)])(\\mathbb{E}[\\mu(x)]-\\hat\\mu(x))|x] \\\\\n",
    "&= bias^2(x) + var(x)\n",
    "\\end{align}$$"
   ]
  },
  {
   "cell_type": "markdown",
   "id": "2eef1619",
   "metadata": {},
   "source": [
    "$$\\begin{equation}\\mathcal{L}(x)=\\sigma_x^2 + bias^2(x) + var(x)\\end{equation}$$"
   ]
  },
  {
   "cell_type": "code",
   "execution_count": null,
   "id": "116c9347",
   "metadata": {},
   "outputs": [],
   "source": []
  }
 ],
 "metadata": {
  "kernelspec": {
   "display_name": "Python 3",
   "language": "python",
   "name": "python3"
  },
  "language_info": {
   "codemirror_mode": {
    "name": "ipython",
    "version": 3
   },
   "file_extension": ".py",
   "mimetype": "text/x-python",
   "name": "python",
   "nbconvert_exporter": "python",
   "pygments_lexer": "ipython3",
   "version": "3.9.1"
  },
  "toc": {
   "base_numbering": 1,
   "nav_menu": {},
   "number_sections": true,
   "sideBar": true,
   "skip_h1_title": false,
   "title_cell": "Table of Contents",
   "title_sidebar": "Contents",
   "toc_cell": false,
   "toc_position": {},
   "toc_section_display": true,
   "toc_window_display": false
  },
  "varInspector": {
   "cols": {
    "lenName": 16,
    "lenType": 16,
    "lenVar": 40
   },
   "kernels_config": {
    "python": {
     "delete_cmd_postfix": "",
     "delete_cmd_prefix": "del ",
     "library": "var_list.py",
     "varRefreshCmd": "print(var_dic_list())"
    },
    "r": {
     "delete_cmd_postfix": ") ",
     "delete_cmd_prefix": "rm(",
     "library": "var_list.r",
     "varRefreshCmd": "cat(var_dic_list()) "
    }
   },
   "position": {
    "height": "144px",
    "left": "623px",
    "right": "20px",
    "top": "119px",
    "width": "350px"
   },
   "types_to_exclude": [
    "module",
    "function",
    "builtin_function_or_method",
    "instance",
    "_Feature"
   ],
   "window_display": false
  }
 },
 "nbformat": 4,
 "nbformat_minor": 5
}
