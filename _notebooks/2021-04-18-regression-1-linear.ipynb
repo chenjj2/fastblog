{
 "cells": [
  {
   "cell_type": "markdown",
   "id": "58a8d113",
   "metadata": {},
   "source": [
    "# linear model"
   ]
  },
  {
   "cell_type": "markdown",
   "id": "50a9d44e",
   "metadata": {},
   "source": [
    "Linear Regression: $y=X\\beta + \\sigma$\n",
    "\n",
    "Note: what \"linear\" refers to is $\\beta$ rather than $X$. You can always redefine a new $X$ as a nonlinear combination of $X$.\n",
    "\n",
    "$\\sigma$ is the intrinsic variance of $y$ given $X$, and in linear models, we usually assume $\\sigma \\~ Normal(0, \\sigma)$ \n",
    "\n",
    "The reason that intrinsic variance exists is that we will almost never be able to get all the factors that relate to $y$. If we can, $y$ will be deterministic given $X$. In reality, we are almost always facing cases where we can only think of, and have access to some observables."
   ]
  },
  {
   "cell_type": "markdown",
   "id": "21db9f81",
   "metadata": {},
   "source": []
  },
  {
   "cell_type": "markdown",
   "id": "51cb1ae1",
   "metadata": {},
   "source": [
    "# generalized linear model"
   ]
  },
  {
   "cell_type": "markdown",
   "id": "d9f46cba",
   "metadata": {},
   "source": [
    "# classification - logistic regression"
   ]
  },
  {
   "cell_type": "markdown",
   "id": "f580a422",
   "metadata": {},
   "source": [
    "# Nonlinear model\n",
    "Tree/NN/etc. out of scope"
   ]
  },
  {
   "cell_type": "code",
   "execution_count": null,
   "id": "62d4d210",
   "metadata": {},
   "outputs": [],
   "source": []
  },
  {
   "cell_type": "code",
   "execution_count": null,
   "id": "2ea1c687",
   "metadata": {},
   "outputs": [],
   "source": []
  },
  {
   "cell_type": "code",
   "execution_count": null,
   "id": "6efa9809",
   "metadata": {},
   "outputs": [],
   "source": []
  }
 ],
 "metadata": {
  "kernelspec": {
   "display_name": "Python 3",
   "language": "python",
   "name": "python3"
  },
  "language_info": {
   "codemirror_mode": {
    "name": "ipython",
    "version": 3
   },
   "file_extension": ".py",
   "mimetype": "text/x-python",
   "name": "python",
   "nbconvert_exporter": "python",
   "pygments_lexer": "ipython3",
   "version": "3.9.1"
  },
  "toc": {
   "base_numbering": 1,
   "nav_menu": {},
   "number_sections": true,
   "sideBar": true,
   "skip_h1_title": false,
   "title_cell": "Table of Contents",
   "title_sidebar": "Contents",
   "toc_cell": false,
   "toc_position": {},
   "toc_section_display": true,
   "toc_window_display": false
  },
  "varInspector": {
   "cols": {
    "lenName": 16,
    "lenType": 16,
    "lenVar": 40
   },
   "kernels_config": {
    "python": {
     "delete_cmd_postfix": "",
     "delete_cmd_prefix": "del ",
     "library": "var_list.py",
     "varRefreshCmd": "print(var_dic_list())"
    },
    "r": {
     "delete_cmd_postfix": ") ",
     "delete_cmd_prefix": "rm(",
     "library": "var_list.r",
     "varRefreshCmd": "cat(var_dic_list()) "
    }
   },
   "types_to_exclude": [
    "module",
    "function",
    "builtin_function_or_method",
    "instance",
    "_Feature"
   ],
   "window_display": true
  }
 },
 "nbformat": 4,
 "nbformat_minor": 5
}
